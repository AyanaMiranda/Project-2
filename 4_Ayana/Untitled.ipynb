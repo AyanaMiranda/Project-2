{
 "cells": [
  {
   "cell_type": "code",
   "execution_count": 2,
   "id": "01b70333-9fa3-442d-9d2e-286397b51e81",
   "metadata": {},
   "outputs": [
    {
     "ename": "NameError",
     "evalue": "name 'data_cleaned' is not defined",
     "output_type": "error",
     "traceback": [
      "\u001b[1;31m---------------------------------------------------------------------------\u001b[0m",
      "\u001b[1;31mNameError\u001b[0m                                 Traceback (most recent call last)",
      "Cell \u001b[1;32mIn[2], line 7\u001b[0m\n\u001b[0;32m      2\u001b[0m \u001b[38;5;28;01mfrom\u001b[39;00m \u001b[38;5;21;01msklearn\u001b[39;00m\u001b[38;5;21;01m.\u001b[39;00m\u001b[38;5;21;01mmodel_selection\u001b[39;00m \u001b[38;5;28;01mimport\u001b[39;00m train_test_split\n\u001b[0;32m      4\u001b[0m \u001b[38;5;66;03m# Assuming 'data_cleaned' already exists\u001b[39;00m\n\u001b[0;32m      5\u001b[0m \n\u001b[0;32m      6\u001b[0m \u001b[38;5;66;03m# Define features (X) and targets (y)\u001b[39;00m\n\u001b[1;32m----> 7\u001b[0m X \u001b[38;5;241m=\u001b[39m data_cleaned\u001b[38;5;241m.\u001b[39mdrop(columns\u001b[38;5;241m=\u001b[39m[\u001b[38;5;124m'\u001b[39m\u001b[38;5;124mAttendedBootcamp\u001b[39m\u001b[38;5;124m'\u001b[39m, \u001b[38;5;124m'\u001b[39m\u001b[38;5;124mBootcampFinish\u001b[39m\u001b[38;5;124m'\u001b[39m])\n\u001b[0;32m      8\u001b[0m y_attend \u001b[38;5;241m=\u001b[39m data_cleaned[\u001b[38;5;124m'\u001b[39m\u001b[38;5;124mAttendedBootcamp\u001b[39m\u001b[38;5;124m'\u001b[39m]  \u001b[38;5;66;03m# Target 1: Attend Bootcamp\u001b[39;00m\n\u001b[0;32m      9\u001b[0m y_finish \u001b[38;5;241m=\u001b[39m data_cleaned[\u001b[38;5;124m'\u001b[39m\u001b[38;5;124mBootcampFinish\u001b[39m\u001b[38;5;124m'\u001b[39m]    \u001b[38;5;66;03m# Target 2: Finish Bootcamp\u001b[39;00m\n",
      "\u001b[1;31mNameError\u001b[0m: name 'data_cleaned' is not defined"
     ]
    }
   ],
   "source": [
    "import pandas as pd\n",
    "from sklearn.model_selection import train_test_split\n",
    "\n",
    "# Assuming 'data_cleaned' already exists\n",
    "\n",
    "# Define features (X) and targets (y)\n",
    "X = data_cleaned.drop(columns=['AttendedBootcamp', 'BootcampFinish'])\n",
    "y_attend = data_cleaned['AttendedBootcamp']  # Target 1: Attend Bootcamp\n",
    "y_finish = data_cleaned['BootcampFinish']    # Target 2: Finish Bootcamp\n",
    "\n",
    "# Split data for 'AttendedBootcamp' prediction\n",
    "X_train_attend, X_test_attend, y_train_attend, y_test_attend = train_test_split(\n",
    "    X, y_attend, test_size=0.3, stratify=y_attend, random_state=42\n",
    ")\n",
    "\n",
    "# Combine 'AttendedBootcamp' datasets\n",
    "train_attend = pd.concat([X_train_attend, y_train_attend], axis=1)\n",
    "test_attend = pd.concat([X_test_attend, y_test_attend], axis=1)\n",
    "\n",
    "# Add an indicator column\n",
    "train_attend['Set'] = 'Train'\n",
    "test_attend['Set'] = 'Test'\n",
    "\n",
    "# Concatenate train and test sets\n",
    "combined_attend = pd.concat([train_attend, test_attend])\n",
    "\n",
    "# Export to CSV\n",
    "combined_attend.to_csv('attended_bootcamp_train_test.csv', index=False)\n",
    "\n",
    "# Repeat similar steps for 'BootcampFinish' prediction\n",
    "X_train_finish, X_test_finish, y_train_finish, y_test_finish = train_test_split(\n",
    "    X, y_finish, test_size=0.3, stratify=y_finish, random_state=42\n",
    ")\n",
    "\n",
    "# Combine 'BootcampFinish' datasets\n",
    "train_finish = pd.concat([X_train_finish, y_train_finish], axis=1)\n",
    "test_finish = pd.concat([X_test_finish, y_test_finish], axis=1)\n",
    "\n",
    "# Add an indicator column\n",
    "train_finish['Set'] = 'Train'\n",
    "test_finish['Set'] = 'Test'\n",
    "\n",
    "# Concatenate train and test sets\n",
    "combined_finish = pd.concat([train_finish, test_finish])\n",
    "\n",
    "# Export to CSV\n",
    "combined_finish.to_csv('bootcamp_finish_train_test.csv', index=False)\n"
   ]
  },
  {
   "cell_type": "code",
   "execution_count": null,
   "id": "3213e8e7-2a27-4622-988f-7eac804c7577",
   "metadata": {},
   "outputs": [],
   "source": []
  }
 ],
 "metadata": {
  "kernelspec": {
   "display_name": "Python 3 (ipykernel)",
   "language": "python",
   "name": "python3"
  },
  "language_info": {
   "codemirror_mode": {
    "name": "ipython",
    "version": 3
   },
   "file_extension": ".py",
   "mimetype": "text/x-python",
   "name": "python",
   "nbconvert_exporter": "python",
   "pygments_lexer": "ipython3",
   "version": "3.11.7"
  }
 },
 "nbformat": 4,
 "nbformat_minor": 5
}
