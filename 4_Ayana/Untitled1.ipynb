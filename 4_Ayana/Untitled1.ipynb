{
 "cells": [
  {
   "cell_type": "code",
   "execution_count": null,
   "id": "82533630-06cb-47b0-8b9d-c858375b71b1",
   "metadata": {},
   "outputs": [],
   "source": [
    "### Are (MARKET 1) and (MARKET 2) the Best Two Markets to Advertise In?\n",
    "# This project aims to compare demographic informatrrion about coding course participants in order to find the best profitable market for advertising\n",
    "# What your goal is in this project.\n",
    "# Our goal in this project is to determine which markets yield the highest start and completion of coding courses and use this to market courses towards those individuals\n"
   ]
  }
 ],
 "metadata": {
  "kernelspec": {
   "display_name": "Python 3 (ipykernel)",
   "language": "python",
   "name": "python3"
  },
  "language_info": {
   "codemirror_mode": {
    "name": "ipython",
    "version": 3
   },
   "file_extension": ".py",
   "mimetype": "text/x-python",
   "name": "python",
   "nbconvert_exporter": "python",
   "pygments_lexer": "ipython3",
   "version": "3.11.7"
  }
 },
 "nbformat": 4,
 "nbformat_minor": 5
}
